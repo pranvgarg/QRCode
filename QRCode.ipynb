{
 "cells": [
  {
   "cell_type": "code",
   "execution_count": 1,
   "metadata": {},
   "outputs": [],
   "source": [
    "import pandas as pd\n",
    "import xlrd as d\n",
    "import pyqrcode as qrcode\n",
    "import png\n",
    "import qrcode\n",
    "from pyqrcode import QRCode\n",
    "import os\n",
    "from PIL import Image\n",
    "import glob\n",
    "filenames=os.listdir()"
   ]
  },
  {
   "cell_type": "code",
   "execution_count": 2,
   "metadata": {},
   "outputs": [],
   "source": [
    "def linkToQR(list):\n",
    "    for key,value in list.items():\n",
    "\n",
    "        print(key)\n",
    "        print(value)\n",
    "            # img=qrcode.make(key)\n",
    "            # Generate QR ##\n",
    "        qr = qrcode.QRCode(version=1,error_correction=qrcode.constants.ERROR_CORRECT_L,box_size=20,border=2)\n",
    "        qr.add_data(value)\n",
    "        qr.make(fit=True)\n",
    "            ## Color of QR ##\n",
    "        img = qr.make_image(fill_color=(184,153,151), back_color=\"white\")\n",
    "        name=key+'.png'\n",
    "        print(name)\n",
    "\n",
    "            ## Save unique QR According to name ##\n",
    "        img.save(name)\n",
    "    "
   ]
  },
  {
   "cell_type": "code",
   "execution_count": 3,
   "metadata": {},
   "outputs": [],
   "source": [
    "def addBackground(list):\n",
    "    for key,value in list.items():\n",
    "        # Front Image\n",
    "        filename1 = 'CaffieneDay.png'\n",
    "        s = str(key)\n",
    "        # Back Image\n",
    "        filename = s +'.png'\n",
    "        \n",
    "        # Open Front Image\n",
    "        frontImage = Image.open(filename)\n",
    "        \n",
    "        # Open Background Image\n",
    "        background = Image.open(filename1)\n",
    "        \n",
    "        # Convert image to RGBA\n",
    "        frontImage = frontImage.convert(\"RGBA\")\n",
    "        frontImage = frontImage.resize((733, 733), Image.ANTIALIAS)\n",
    "        \n",
    "        # Convert image to RGBA\n",
    "        background = background.convert(\"RGBA\")\n",
    "        \n",
    "        # Calculate width to be at the center\n",
    "        width = (background.width - frontImage.width) // 2\n",
    "        #print(width)\n",
    "        \n",
    "        # Calculate height to be at the center\n",
    "        height = (background.height - frontImage.height) // 2\n",
    "        #print(height)\n",
    "        \n",
    "        # Paste the frontImage at (width, height)\n",
    "        background.paste(frontImage, (178, 350), frontImage)\n",
    "        \n",
    "        # Save this image\n",
    "        background.save(\"new\"+s+\".png\", format=\"png\")    \n",
    "        print(\"------DONE-------\")"
   ]
  },
  {
   "cell_type": "code",
   "execution_count": 4,
   "metadata": {},
   "outputs": [
    {
     "data": {
      "text/html": [
       "<div>\n",
       "<style scoped>\n",
       "    .dataframe tbody tr th:only-of-type {\n",
       "        vertical-align: middle;\n",
       "    }\n",
       "\n",
       "    .dataframe tbody tr th {\n",
       "        vertical-align: top;\n",
       "    }\n",
       "\n",
       "    .dataframe thead th {\n",
       "        text-align: right;\n",
       "    }\n",
       "</style>\n",
       "<table border=\"1\" class=\"dataframe\">\n",
       "  <thead>\n",
       "    <tr style=\"text-align: right;\">\n",
       "      <th></th>\n",
       "      <th>Sno.</th>\n",
       "      <th>Links</th>\n",
       "    </tr>\n",
       "  </thead>\n",
       "  <tbody>\n",
       "    <tr>\n",
       "      <th>0</th>\n",
       "      <td>Kalam</td>\n",
       "      <td>https://forms.gle/SGsjR63brPpfSbkC7</td>\n",
       "    </tr>\n",
       "    <tr>\n",
       "      <th>1</th>\n",
       "      <td>DartBoard</td>\n",
       "      <td>https://forms.gle/edwY3WPXex7URxWC6</td>\n",
       "    </tr>\n",
       "    <tr>\n",
       "      <th>2</th>\n",
       "      <td>Newton</td>\n",
       "      <td>https://forms.gle/1Em2rRnaoZbskUK56</td>\n",
       "    </tr>\n",
       "    <tr>\n",
       "      <th>3</th>\n",
       "      <td>Microwave</td>\n",
       "      <td>https://forms.gle/S3MtTeA8H3zQpA1k8</td>\n",
       "    </tr>\n",
       "    <tr>\n",
       "      <th>4</th>\n",
       "      <td>CarromBoard</td>\n",
       "      <td>https://forms.gle/LNvyM1eYC6gwpaQf9</td>\n",
       "    </tr>\n",
       "    <tr>\n",
       "      <th>5</th>\n",
       "      <td>Reception</td>\n",
       "      <td>https://forms.gle/WnKToHvRFoAsryhM9</td>\n",
       "    </tr>\n",
       "    <tr>\n",
       "      <th>6</th>\n",
       "      <td>Aristotle</td>\n",
       "      <td>https://forms.gle/fc85kXUWYg22zDFv7</td>\n",
       "    </tr>\n",
       "    <tr>\n",
       "      <th>7</th>\n",
       "      <td>Maumita</td>\n",
       "      <td>https://forms.gle/tikBCYgxKQB2L5TKA</td>\n",
       "    </tr>\n",
       "  </tbody>\n",
       "</table>\n",
       "</div>"
      ],
      "text/plain": [
       "          Sno.                                Links\n",
       "0        Kalam  https://forms.gle/SGsjR63brPpfSbkC7\n",
       "1    DartBoard  https://forms.gle/edwY3WPXex7URxWC6\n",
       "2       Newton  https://forms.gle/1Em2rRnaoZbskUK56\n",
       "3    Microwave  https://forms.gle/S3MtTeA8H3zQpA1k8\n",
       "4  CarromBoard  https://forms.gle/LNvyM1eYC6gwpaQf9\n",
       "5    Reception  https://forms.gle/WnKToHvRFoAsryhM9\n",
       "6    Aristotle  https://forms.gle/fc85kXUWYg22zDFv7\n",
       "7      Maumita  https://forms.gle/tikBCYgxKQB2L5TKA"
      ]
     },
     "execution_count": 4,
     "metadata": {},
     "output_type": "execute_result"
    }
   ],
   "source": [
    "df = pd.read_excel('Links.xlsx')\n",
    "df['Sno.'] = df['Sno.'].astype(str)\n",
    "df"
   ]
  },
  {
   "cell_type": "code",
   "execution_count": 5,
   "metadata": {},
   "outputs": [
    {
     "name": "stdout",
     "output_type": "stream",
     "text": [
      "Index(['Sno.', 'Links'], dtype='object')\n"
     ]
    },
    {
     "data": {
      "text/plain": [
       "{'Kalam': 'https://forms.gle/SGsjR63brPpfSbkC7',\n",
       " 'DartBoard': 'https://forms.gle/edwY3WPXex7URxWC6',\n",
       " 'Newton': 'https://forms.gle/1Em2rRnaoZbskUK56',\n",
       " 'Microwave': 'https://forms.gle/S3MtTeA8H3zQpA1k8',\n",
       " 'CarromBoard': 'https://forms.gle/LNvyM1eYC6gwpaQf9',\n",
       " 'Reception': 'https://forms.gle/WnKToHvRFoAsryhM9',\n",
       " 'Aristotle': 'https://forms.gle/fc85kXUWYg22zDFv7',\n",
       " 'Maumita': 'https://forms.gle/tikBCYgxKQB2L5TKA'}"
      ]
     },
     "execution_count": 5,
     "metadata": {},
     "output_type": "execute_result"
    }
   ],
   "source": [
    "print(df.columns)\n",
    "#list1=df.set_index(\"Link For Attendance\")[\"Contact number:\"].to_dict()\n",
    "list1 = df.set_index('Sno.')[\"Links\"].to_dict()\n",
    "list1\n"
   ]
  },
  {
   "cell_type": "code",
   "execution_count": 6,
   "metadata": {},
   "outputs": [
    {
     "name": "stdout",
     "output_type": "stream",
     "text": [
      "Kalam\n",
      "https://forms.gle/SGsjR63brPpfSbkC7\n",
      "Kalam.png\n",
      "DartBoard\n",
      "https://forms.gle/edwY3WPXex7URxWC6\n",
      "DartBoard.png\n",
      "Newton\n",
      "https://forms.gle/1Em2rRnaoZbskUK56\n",
      "Newton.png\n",
      "Microwave\n",
      "https://forms.gle/S3MtTeA8H3zQpA1k8\n",
      "Microwave.png\n",
      "CarromBoard\n",
      "https://forms.gle/LNvyM1eYC6gwpaQf9\n",
      "CarromBoard.png\n",
      "Reception\n",
      "https://forms.gle/WnKToHvRFoAsryhM9\n",
      "Reception.png\n",
      "Aristotle\n",
      "https://forms.gle/fc85kXUWYg22zDFv7\n",
      "Aristotle.png\n",
      "Maumita\n",
      "https://forms.gle/tikBCYgxKQB2L5TKA\n",
      "Maumita.png\n"
     ]
    }
   ],
   "source": [
    "linkToQR(list1)\n"
   ]
  },
  {
   "cell_type": "code",
   "execution_count": 7,
   "metadata": {},
   "outputs": [
    {
     "name": "stderr",
     "output_type": "stream",
     "text": [
      "C:\\Users\\W67095\\AppData\\Local\\Temp\\ipykernel_16268\\3724042840.py:17: DeprecationWarning: ANTIALIAS is deprecated and will be removed in Pillow 10 (2023-07-01). Use Resampling.LANCZOS instead.\n",
      "  frontImage = frontImage.resize((733, 733), Image.ANTIALIAS)\n"
     ]
    },
    {
     "name": "stdout",
     "output_type": "stream",
     "text": [
      "------DONE-------\n",
      "------DONE-------\n",
      "------DONE-------\n",
      "------DONE-------\n",
      "------DONE-------\n",
      "------DONE-------\n",
      "------DONE-------\n",
      "------DONE-------\n"
     ]
    }
   ],
   "source": [
    "addBackground(list1)"
   ]
  },
  {
   "cell_type": "code",
   "execution_count": null,
   "metadata": {},
   "outputs": [],
   "source": []
  }
 ],
 "metadata": {
  "kernelspec": {
   "display_name": "Python 3.10.8 64-bit",
   "language": "python",
   "name": "python3"
  },
  "language_info": {
   "codemirror_mode": {
    "name": "ipython",
    "version": 3
   },
   "file_extension": ".py",
   "mimetype": "text/x-python",
   "name": "python",
   "nbconvert_exporter": "python",
   "pygments_lexer": "ipython3",
   "version": "3.10.8"
  },
  "orig_nbformat": 4,
  "vscode": {
   "interpreter": {
    "hash": "81d6ca344e5054c412b24a068bf1aca7b07179c217bddf8d8e363b8a0f1cccc4"
   }
  }
 },
 "nbformat": 4,
 "nbformat_minor": 2
}
